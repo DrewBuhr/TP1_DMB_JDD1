{
 "cells": [
  {
   "cell_type": "code",
   "execution_count": 1,
   "id": "0155fe67",
   "metadata": {},
   "outputs": [],
   "source": [
    "import pandas as pd\n",
    "import numpy as np \n",
    "import matplotlib.pyplot as plt\n",
    "import seaborn as sns\n",
    "%matplotlib inline"
   ]
  },
  {
   "cell_type": "code",
   "execution_count": 2,
   "id": "257fa4b7",
   "metadata": {},
   "outputs": [],
   "source": [
    "df = pd.read_csv('used_cars.csv')"
   ]
  },
  {
   "cell_type": "code",
   "execution_count": 3,
   "id": "a914c58a",
   "metadata": {},
   "outputs": [
    {
     "data": {
      "text/html": [
       "<div>\n",
       "<style scoped>\n",
       "    .dataframe tbody tr th:only-of-type {\n",
       "        vertical-align: middle;\n",
       "    }\n",
       "\n",
       "    .dataframe tbody tr th {\n",
       "        vertical-align: top;\n",
       "    }\n",
       "\n",
       "    .dataframe thead th {\n",
       "        text-align: right;\n",
       "    }\n",
       "</style>\n",
       "<table border=\"1\" class=\"dataframe\">\n",
       "  <thead>\n",
       "    <tr style=\"text-align: right;\">\n",
       "      <th></th>\n",
       "      <th>Unnamed: 0</th>\n",
       "      <th>id</th>\n",
       "      <th>url</th>\n",
       "      <th>region</th>\n",
       "      <th>region_url</th>\n",
       "      <th>price</th>\n",
       "      <th>year</th>\n",
       "      <th>manufacturer</th>\n",
       "      <th>model</th>\n",
       "      <th>condition</th>\n",
       "      <th>...</th>\n",
       "      <th>drive</th>\n",
       "      <th>size</th>\n",
       "      <th>type</th>\n",
       "      <th>paint_color</th>\n",
       "      <th>image_url</th>\n",
       "      <th>description</th>\n",
       "      <th>county</th>\n",
       "      <th>state</th>\n",
       "      <th>lat</th>\n",
       "      <th>long</th>\n",
       "    </tr>\n",
       "  </thead>\n",
       "  <tbody>\n",
       "    <tr>\n",
       "      <th>0</th>\n",
       "      <td>0</td>\n",
       "      <td>7034441763</td>\n",
       "      <td>https://saltlakecity.craigslist.org/cto/d/salt...</td>\n",
       "      <td>salt lake city</td>\n",
       "      <td>https://saltlakecity.craigslist.org</td>\n",
       "      <td>17899</td>\n",
       "      <td>2012.0</td>\n",
       "      <td>volkswagen</td>\n",
       "      <td>golf r</td>\n",
       "      <td>excellent</td>\n",
       "      <td>...</td>\n",
       "      <td>4wd</td>\n",
       "      <td>compact</td>\n",
       "      <td>hatchback</td>\n",
       "      <td>black</td>\n",
       "      <td>https://images.craigslist.org/00G0G_fTLDWM5Xyv...</td>\n",
       "      <td>PRICE REDUCED!   -Garage kept -Low Miles (63K)...</td>\n",
       "      <td>NaN</td>\n",
       "      <td>ut</td>\n",
       "      <td>40.7372</td>\n",
       "      <td>-111.858</td>\n",
       "    </tr>\n",
       "    <tr>\n",
       "      <th>1</th>\n",
       "      <td>1</td>\n",
       "      <td>7034440610</td>\n",
       "      <td>https://saltlakecity.craigslist.org/ctd/d/sand...</td>\n",
       "      <td>salt lake city</td>\n",
       "      <td>https://saltlakecity.craigslist.org</td>\n",
       "      <td>0</td>\n",
       "      <td>2016.0</td>\n",
       "      <td>ford</td>\n",
       "      <td>f-150</td>\n",
       "      <td>excellent</td>\n",
       "      <td>...</td>\n",
       "      <td>4wd</td>\n",
       "      <td>NaN</td>\n",
       "      <td>NaN</td>\n",
       "      <td>NaN</td>\n",
       "      <td>https://images.craigslist.org/00v0v_7Cu0buIofU...</td>\n",
       "      <td>Drive it home today. Call (Or Text) us now !!C...</td>\n",
       "      <td>NaN</td>\n",
       "      <td>ut</td>\n",
       "      <td>40.5881</td>\n",
       "      <td>-111.884</td>\n",
       "    </tr>\n",
       "    <tr>\n",
       "      <th>2</th>\n",
       "      <td>2</td>\n",
       "      <td>7034440588</td>\n",
       "      <td>https://saltlakecity.craigslist.org/ctd/d/sand...</td>\n",
       "      <td>salt lake city</td>\n",
       "      <td>https://saltlakecity.craigslist.org</td>\n",
       "      <td>46463</td>\n",
       "      <td>2015.0</td>\n",
       "      <td>gmc</td>\n",
       "      <td>sierra 1500</td>\n",
       "      <td>excellent</td>\n",
       "      <td>...</td>\n",
       "      <td>4wd</td>\n",
       "      <td>NaN</td>\n",
       "      <td>NaN</td>\n",
       "      <td>white</td>\n",
       "      <td>https://images.craigslist.org/01515_lPvJ9bfbdY...</td>\n",
       "      <td>Drive it home today. Call (Or Text) us now !!C...</td>\n",
       "      <td>NaN</td>\n",
       "      <td>ut</td>\n",
       "      <td>40.5881</td>\n",
       "      <td>-111.884</td>\n",
       "    </tr>\n",
       "    <tr>\n",
       "      <th>3</th>\n",
       "      <td>3</td>\n",
       "      <td>7034440546</td>\n",
       "      <td>https://saltlakecity.craigslist.org/ctd/d/sand...</td>\n",
       "      <td>salt lake city</td>\n",
       "      <td>https://saltlakecity.craigslist.org</td>\n",
       "      <td>0</td>\n",
       "      <td>2016.0</td>\n",
       "      <td>ford</td>\n",
       "      <td>f-150</td>\n",
       "      <td>excellent</td>\n",
       "      <td>...</td>\n",
       "      <td>4wd</td>\n",
       "      <td>NaN</td>\n",
       "      <td>NaN</td>\n",
       "      <td>NaN</td>\n",
       "      <td>https://images.craigslist.org/00T0T_6Rjfp3NS4O...</td>\n",
       "      <td>Drive it home today. Call (Or Text) us now !!C...</td>\n",
       "      <td>NaN</td>\n",
       "      <td>ut</td>\n",
       "      <td>40.5881</td>\n",
       "      <td>-111.884</td>\n",
       "    </tr>\n",
       "    <tr>\n",
       "      <th>4</th>\n",
       "      <td>4</td>\n",
       "      <td>7034406932</td>\n",
       "      <td>https://saltlakecity.craigslist.org/ctd/d/evan...</td>\n",
       "      <td>salt lake city</td>\n",
       "      <td>https://saltlakecity.craigslist.org</td>\n",
       "      <td>49999</td>\n",
       "      <td>2018.0</td>\n",
       "      <td>ford</td>\n",
       "      <td>f-450</td>\n",
       "      <td>NaN</td>\n",
       "      <td>...</td>\n",
       "      <td>4wd</td>\n",
       "      <td>NaN</td>\n",
       "      <td>pickup</td>\n",
       "      <td>white</td>\n",
       "      <td>https://images.craigslist.org/00W0W_8yIUwRBXXd...</td>\n",
       "      <td>2018 Ford F-350 F350 F 350 SD Lariat Crew Cab ...</td>\n",
       "      <td>NaN</td>\n",
       "      <td>ut</td>\n",
       "      <td>40.3744</td>\n",
       "      <td>-104.694</td>\n",
       "    </tr>\n",
       "  </tbody>\n",
       "</table>\n",
       "<p>5 rows × 26 columns</p>\n",
       "</div>"
      ],
      "text/plain": [
       "   Unnamed: 0          id                                                url  \\\n",
       "0           0  7034441763  https://saltlakecity.craigslist.org/cto/d/salt...   \n",
       "1           1  7034440610  https://saltlakecity.craigslist.org/ctd/d/sand...   \n",
       "2           2  7034440588  https://saltlakecity.craigslist.org/ctd/d/sand...   \n",
       "3           3  7034440546  https://saltlakecity.craigslist.org/ctd/d/sand...   \n",
       "4           4  7034406932  https://saltlakecity.craigslist.org/ctd/d/evan...   \n",
       "\n",
       "           region                           region_url  price    year  \\\n",
       "0  salt lake city  https://saltlakecity.craigslist.org  17899  2012.0   \n",
       "1  salt lake city  https://saltlakecity.craigslist.org      0  2016.0   \n",
       "2  salt lake city  https://saltlakecity.craigslist.org  46463  2015.0   \n",
       "3  salt lake city  https://saltlakecity.craigslist.org      0  2016.0   \n",
       "4  salt lake city  https://saltlakecity.craigslist.org  49999  2018.0   \n",
       "\n",
       "  manufacturer        model  condition  ... drive     size       type  \\\n",
       "0   volkswagen       golf r  excellent  ...   4wd  compact  hatchback   \n",
       "1         ford        f-150  excellent  ...   4wd      NaN        NaN   \n",
       "2          gmc  sierra 1500  excellent  ...   4wd      NaN        NaN   \n",
       "3         ford        f-150  excellent  ...   4wd      NaN        NaN   \n",
       "4         ford        f-450        NaN  ...   4wd      NaN     pickup   \n",
       "\n",
       "  paint_color                                          image_url  \\\n",
       "0       black  https://images.craigslist.org/00G0G_fTLDWM5Xyv...   \n",
       "1         NaN  https://images.craigslist.org/00v0v_7Cu0buIofU...   \n",
       "2       white  https://images.craigslist.org/01515_lPvJ9bfbdY...   \n",
       "3         NaN  https://images.craigslist.org/00T0T_6Rjfp3NS4O...   \n",
       "4       white  https://images.craigslist.org/00W0W_8yIUwRBXXd...   \n",
       "\n",
       "                                         description county state      lat  \\\n",
       "0  PRICE REDUCED!   -Garage kept -Low Miles (63K)...    NaN    ut  40.7372   \n",
       "1  Drive it home today. Call (Or Text) us now !!C...    NaN    ut  40.5881   \n",
       "2  Drive it home today. Call (Or Text) us now !!C...    NaN    ut  40.5881   \n",
       "3  Drive it home today. Call (Or Text) us now !!C...    NaN    ut  40.5881   \n",
       "4  2018 Ford F-350 F350 F 350 SD Lariat Crew Cab ...    NaN    ut  40.3744   \n",
       "\n",
       "      long  \n",
       "0 -111.858  \n",
       "1 -111.884  \n",
       "2 -111.884  \n",
       "3 -111.884  \n",
       "4 -104.694  \n",
       "\n",
       "[5 rows x 26 columns]"
      ]
     },
     "execution_count": 3,
     "metadata": {},
     "output_type": "execute_result"
    }
   ],
   "source": [
    "df.head()"
   ]
  },
  {
   "cell_type": "code",
   "execution_count": 57,
   "id": "5fc40f4c",
   "metadata": {},
   "outputs": [
    {
     "data": {
      "text/plain": [
       "20001"
      ]
     },
     "execution_count": 57,
     "metadata": {},
     "output_type": "execute_result"
    }
   ],
   "source": [
    "len(df)"
   ]
  },
  {
   "cell_type": "code",
   "execution_count": 5,
   "id": "8f2f569b",
   "metadata": {
    "scrolled": false
   },
   "outputs": [
    {
     "data": {
      "text/plain": [
       "Index(['Unnamed: 0', 'id', 'url', 'region', 'region_url', 'price', 'year',\n",
       "       'manufacturer', 'model', 'condition', 'cylinders', 'fuel', 'odometer',\n",
       "       'title_status', 'transmission', 'vin', 'drive', 'size', 'type',\n",
       "       'paint_color', 'image_url', 'description', 'county', 'state', 'lat',\n",
       "       'long'],\n",
       "      dtype='object')"
      ]
     },
     "execution_count": 5,
     "metadata": {},
     "output_type": "execute_result"
    }
   ],
   "source": [
    "df.columns"
   ]
  },
  {
   "cell_type": "markdown",
   "id": "74dd42ff",
   "metadata": {},
   "source": [
    "Decide which columns of data we would like to keep"
   ]
  },
  {
   "cell_type": "code",
   "execution_count": 6,
   "id": "b3b0ed19",
   "metadata": {},
   "outputs": [],
   "source": [
    "df.drop(['Unnamed: 0', 'id', 'url', 'region_url', 'lat', 'long'], axis=1, inplace=True)"
   ]
  },
  {
   "cell_type": "code",
   "execution_count": 7,
   "id": "eb226024",
   "metadata": {},
   "outputs": [
    {
     "data": {
      "text/html": [
       "<div>\n",
       "<style scoped>\n",
       "    .dataframe tbody tr th:only-of-type {\n",
       "        vertical-align: middle;\n",
       "    }\n",
       "\n",
       "    .dataframe tbody tr th {\n",
       "        vertical-align: top;\n",
       "    }\n",
       "\n",
       "    .dataframe thead th {\n",
       "        text-align: right;\n",
       "    }\n",
       "</style>\n",
       "<table border=\"1\" class=\"dataframe\">\n",
       "  <thead>\n",
       "    <tr style=\"text-align: right;\">\n",
       "      <th></th>\n",
       "      <th>region</th>\n",
       "      <th>price</th>\n",
       "      <th>year</th>\n",
       "      <th>manufacturer</th>\n",
       "      <th>model</th>\n",
       "      <th>condition</th>\n",
       "      <th>cylinders</th>\n",
       "      <th>fuel</th>\n",
       "      <th>odometer</th>\n",
       "      <th>title_status</th>\n",
       "      <th>transmission</th>\n",
       "      <th>vin</th>\n",
       "      <th>drive</th>\n",
       "      <th>size</th>\n",
       "      <th>type</th>\n",
       "      <th>paint_color</th>\n",
       "      <th>image_url</th>\n",
       "      <th>description</th>\n",
       "      <th>county</th>\n",
       "      <th>state</th>\n",
       "    </tr>\n",
       "  </thead>\n",
       "  <tbody>\n",
       "    <tr>\n",
       "      <th>3352</th>\n",
       "      <td>vermont</td>\n",
       "      <td>15465</td>\n",
       "      <td>2015.0</td>\n",
       "      <td>honda</td>\n",
       "      <td>cr-v</td>\n",
       "      <td>excellent</td>\n",
       "      <td>4 cylinders</td>\n",
       "      <td>gas</td>\n",
       "      <td>69807.0</td>\n",
       "      <td>clean</td>\n",
       "      <td>automatic</td>\n",
       "      <td>2HKRM4H57FH690215</td>\n",
       "      <td>4wd</td>\n",
       "      <td>NaN</td>\n",
       "      <td>NaN</td>\n",
       "      <td>black</td>\n",
       "      <td>https://images.craigslist.org/01515_hzx4RGcc7S...</td>\n",
       "      <td>2015 Honda CR-V EX, ONE OWNER, CLEAN CARFAX HI...</td>\n",
       "      <td>NaN</td>\n",
       "      <td>vt</td>\n",
       "    </tr>\n",
       "    <tr>\n",
       "      <th>17758</th>\n",
       "      <td>bellingham</td>\n",
       "      <td>18995</td>\n",
       "      <td>2016.0</td>\n",
       "      <td>jeep</td>\n",
       "      <td>liberty</td>\n",
       "      <td>excellent</td>\n",
       "      <td>4 cylinders</td>\n",
       "      <td>gas</td>\n",
       "      <td>45125.0</td>\n",
       "      <td>clean</td>\n",
       "      <td>automatic</td>\n",
       "      <td>1C4PJMDB7GW162021</td>\n",
       "      <td>4wd</td>\n",
       "      <td>sub-compact</td>\n",
       "      <td>SUV</td>\n",
       "      <td>white</td>\n",
       "      <td>https://images.craigslist.org/00I0I_l4095Xt6QU...</td>\n",
       "      <td>Just in time for Holiday and Winter travel. Ni...</td>\n",
       "      <td>NaN</td>\n",
       "      <td>wa</td>\n",
       "    </tr>\n",
       "    <tr>\n",
       "      <th>14969</th>\n",
       "      <td>roanoke</td>\n",
       "      <td>5995</td>\n",
       "      <td>2007.0</td>\n",
       "      <td>gmc</td>\n",
       "      <td>yukon xl sle</td>\n",
       "      <td>good</td>\n",
       "      <td>8 cylinders</td>\n",
       "      <td>gas</td>\n",
       "      <td>218737.0</td>\n",
       "      <td>clean</td>\n",
       "      <td>automatic</td>\n",
       "      <td>1GKFK16387J197343</td>\n",
       "      <td>4wd</td>\n",
       "      <td>full-size</td>\n",
       "      <td>SUV</td>\n",
       "      <td>red</td>\n",
       "      <td>https://images.craigslist.org/00d0d_6ZWwUu6e7O...</td>\n",
       "      <td>Public announcement: If you want to test drive...</td>\n",
       "      <td>NaN</td>\n",
       "      <td>va</td>\n",
       "    </tr>\n",
       "    <tr>\n",
       "      <th>6602</th>\n",
       "      <td>fredericksburg</td>\n",
       "      <td>2000</td>\n",
       "      <td>2002.0</td>\n",
       "      <td>honda</td>\n",
       "      <td>accord ex</td>\n",
       "      <td>good</td>\n",
       "      <td>4 cylinders</td>\n",
       "      <td>gas</td>\n",
       "      <td>166000.0</td>\n",
       "      <td>clean</td>\n",
       "      <td>automatic</td>\n",
       "      <td>NaN</td>\n",
       "      <td>fwd</td>\n",
       "      <td>full-size</td>\n",
       "      <td>sedan</td>\n",
       "      <td>NaN</td>\n",
       "      <td>https://images.craigslist.org/00I0I_4DBke6sgxc...</td>\n",
       "      <td>I am selling my car in good condition . It has...</td>\n",
       "      <td>NaN</td>\n",
       "      <td>va</td>\n",
       "    </tr>\n",
       "    <tr>\n",
       "      <th>19479</th>\n",
       "      <td>bellingham</td>\n",
       "      <td>11499</td>\n",
       "      <td>2014.0</td>\n",
       "      <td>chrysler</td>\n",
       "      <td>town and country fwd</td>\n",
       "      <td>NaN</td>\n",
       "      <td>NaN</td>\n",
       "      <td>gas</td>\n",
       "      <td>95755.0</td>\n",
       "      <td>clean</td>\n",
       "      <td>automatic</td>\n",
       "      <td>2C4RC1BG5ER117262</td>\n",
       "      <td>fwd</td>\n",
       "      <td>NaN</td>\n",
       "      <td>van</td>\n",
       "      <td>black</td>\n",
       "      <td>https://images.craigslist.org/00F0F_5otROkdMqb...</td>\n",
       "      <td>2014 Chrysler Town And Country Touring FWD **C...</td>\n",
       "      <td>NaN</td>\n",
       "      <td>wa</td>\n",
       "    </tr>\n",
       "  </tbody>\n",
       "</table>\n",
       "</div>"
      ],
      "text/plain": [
       "               region  price    year manufacturer                 model  \\\n",
       "3352          vermont  15465  2015.0        honda                  cr-v   \n",
       "17758      bellingham  18995  2016.0         jeep               liberty   \n",
       "14969         roanoke   5995  2007.0          gmc          yukon xl sle   \n",
       "6602   fredericksburg   2000  2002.0        honda             accord ex   \n",
       "19479      bellingham  11499  2014.0     chrysler  town and country fwd   \n",
       "\n",
       "       condition    cylinders fuel  odometer title_status transmission  \\\n",
       "3352   excellent  4 cylinders  gas   69807.0        clean    automatic   \n",
       "17758  excellent  4 cylinders  gas   45125.0        clean    automatic   \n",
       "14969       good  8 cylinders  gas  218737.0        clean    automatic   \n",
       "6602        good  4 cylinders  gas  166000.0        clean    automatic   \n",
       "19479        NaN          NaN  gas   95755.0        clean    automatic   \n",
       "\n",
       "                     vin drive         size   type paint_color  \\\n",
       "3352   2HKRM4H57FH690215   4wd          NaN    NaN       black   \n",
       "17758  1C4PJMDB7GW162021   4wd  sub-compact    SUV       white   \n",
       "14969  1GKFK16387J197343   4wd    full-size    SUV         red   \n",
       "6602                 NaN   fwd    full-size  sedan         NaN   \n",
       "19479  2C4RC1BG5ER117262   fwd          NaN    van       black   \n",
       "\n",
       "                                               image_url  \\\n",
       "3352   https://images.craigslist.org/01515_hzx4RGcc7S...   \n",
       "17758  https://images.craigslist.org/00I0I_l4095Xt6QU...   \n",
       "14969  https://images.craigslist.org/00d0d_6ZWwUu6e7O...   \n",
       "6602   https://images.craigslist.org/00I0I_4DBke6sgxc...   \n",
       "19479  https://images.craigslist.org/00F0F_5otROkdMqb...   \n",
       "\n",
       "                                             description  county state  \n",
       "3352   2015 Honda CR-V EX, ONE OWNER, CLEAN CARFAX HI...     NaN    vt  \n",
       "17758  Just in time for Holiday and Winter travel. Ni...     NaN    wa  \n",
       "14969  Public announcement: If you want to test drive...     NaN    va  \n",
       "6602   I am selling my car in good condition . It has...     NaN    va  \n",
       "19479  2014 Chrysler Town And Country Touring FWD **C...     NaN    wa  "
      ]
     },
     "execution_count": 7,
     "metadata": {},
     "output_type": "execute_result"
    }
   ],
   "source": [
    "df.sample(5)"
   ]
  },
  {
   "cell_type": "markdown",
   "id": "f6ced096",
   "metadata": {},
   "source": [
    "We found that county was another column we would like to drop"
   ]
  },
  {
   "cell_type": "code",
   "execution_count": 8,
   "id": "ca9bbad5",
   "metadata": {},
   "outputs": [],
   "source": [
    "df.drop(['county'], axis=1, inplace=True)"
   ]
  },
  {
   "cell_type": "code",
   "execution_count": 9,
   "id": "6b54e7d2",
   "metadata": {},
   "outputs": [],
   "source": [
    "df.drop(['vin'], axis=1, inplace=True)"
   ]
  },
  {
   "cell_type": "code",
   "execution_count": 10,
   "id": "f553c54f",
   "metadata": {
    "scrolled": true
   },
   "outputs": [
    {
     "data": {
      "text/plain": [
       "Index(['region', 'price', 'year', 'manufacturer', 'model', 'condition',\n",
       "       'cylinders', 'fuel', 'odometer', 'title_status', 'transmission',\n",
       "       'drive', 'size', 'type', 'paint_color', 'image_url', 'description',\n",
       "       'state'],\n",
       "      dtype='object')"
      ]
     },
     "execution_count": 10,
     "metadata": {},
     "output_type": "execute_result"
    }
   ],
   "source": [
    "df.columns"
   ]
  },
  {
   "cell_type": "markdown",
   "id": "513a21b1",
   "metadata": {},
   "source": [
    "Rename some columns to make the easier to use later on in the study"
   ]
  },
  {
   "cell_type": "code",
   "execution_count": 11,
   "id": "51c65eb2",
   "metadata": {},
   "outputs": [],
   "source": [
    "col_names= ['region', 'price', 'year', 'manufacturer', 'model', 'condition',\n",
    "       'cylinders', 'fuel', 'odometer', 'title', 'transmission',\n",
    "       'drive', 'size', 'type', 'color', 'image_url', 'description',\n",
    "       'state']"
   ]
  },
  {
   "cell_type": "code",
   "execution_count": 12,
   "id": "1f967318",
   "metadata": {},
   "outputs": [],
   "source": [
    "df.columns= col_names"
   ]
  },
  {
   "cell_type": "code",
   "execution_count": 13,
   "id": "e4fc0ef8",
   "metadata": {
    "scrolled": true
   },
   "outputs": [
    {
     "data": {
      "text/plain": [
       "Index(['region', 'price', 'year', 'manufacturer', 'model', 'condition',\n",
       "       'cylinders', 'fuel', 'odometer', 'title', 'transmission', 'drive',\n",
       "       'size', 'type', 'color', 'image_url', 'description', 'state'],\n",
       "      dtype='object')"
      ]
     },
     "execution_count": 13,
     "metadata": {},
     "output_type": "execute_result"
    }
   ],
   "source": [
    "df.columns"
   ]
  },
  {
   "cell_type": "code",
   "execution_count": 14,
   "id": "39e67239",
   "metadata": {
    "scrolled": true
   },
   "outputs": [
    {
     "data": {
      "text/plain": [
       "region           object\n",
       "price             int64\n",
       "year            float64\n",
       "manufacturer     object\n",
       "model            object\n",
       "condition        object\n",
       "cylinders        object\n",
       "fuel             object\n",
       "odometer        float64\n",
       "title            object\n",
       "transmission     object\n",
       "drive            object\n",
       "size             object\n",
       "type             object\n",
       "color            object\n",
       "image_url        object\n",
       "description      object\n",
       "state            object\n",
       "dtype: object"
      ]
     },
     "execution_count": 14,
     "metadata": {},
     "output_type": "execute_result"
    }
   ],
   "source": [
    "df.dtypes"
   ]
  },
  {
   "cell_type": "markdown",
   "id": "a6f3bd39",
   "metadata": {},
   "source": [
    "Convert year from float to int. Did not use datetime because we do not have months or days. "
   ]
  },
  {
   "cell_type": "code",
   "execution_count": 15,
   "id": "767d3847",
   "metadata": {},
   "outputs": [],
   "source": [
    "df['year'] = df['year'].apply(\"int64\")"
   ]
  },
  {
   "cell_type": "code",
   "execution_count": 16,
   "id": "8e1ca56a",
   "metadata": {},
   "outputs": [
    {
     "data": {
      "text/plain": [
       "region           object\n",
       "price             int64\n",
       "year              int64\n",
       "manufacturer     object\n",
       "model            object\n",
       "condition        object\n",
       "cylinders        object\n",
       "fuel             object\n",
       "odometer        float64\n",
       "title            object\n",
       "transmission     object\n",
       "drive            object\n",
       "size             object\n",
       "type             object\n",
       "color            object\n",
       "image_url        object\n",
       "description      object\n",
       "state            object\n",
       "dtype: object"
      ]
     },
     "execution_count": 16,
     "metadata": {},
     "output_type": "execute_result"
    }
   ],
   "source": [
    "df.dtypes"
   ]
  },
  {
   "cell_type": "code",
   "execution_count": 17,
   "id": "4975a554",
   "metadata": {},
   "outputs": [
    {
     "data": {
      "text/html": [
       "<div>\n",
       "<style scoped>\n",
       "    .dataframe tbody tr th:only-of-type {\n",
       "        vertical-align: middle;\n",
       "    }\n",
       "\n",
       "    .dataframe tbody tr th {\n",
       "        vertical-align: top;\n",
       "    }\n",
       "\n",
       "    .dataframe thead th {\n",
       "        text-align: right;\n",
       "    }\n",
       "</style>\n",
       "<table border=\"1\" class=\"dataframe\">\n",
       "  <thead>\n",
       "    <tr style=\"text-align: right;\">\n",
       "      <th></th>\n",
       "      <th>region</th>\n",
       "      <th>price</th>\n",
       "      <th>year</th>\n",
       "      <th>manufacturer</th>\n",
       "      <th>model</th>\n",
       "      <th>condition</th>\n",
       "      <th>cylinders</th>\n",
       "      <th>fuel</th>\n",
       "      <th>odometer</th>\n",
       "      <th>title</th>\n",
       "      <th>transmission</th>\n",
       "      <th>drive</th>\n",
       "      <th>size</th>\n",
       "      <th>type</th>\n",
       "      <th>color</th>\n",
       "      <th>image_url</th>\n",
       "      <th>description</th>\n",
       "      <th>state</th>\n",
       "    </tr>\n",
       "  </thead>\n",
       "  <tbody>\n",
       "    <tr>\n",
       "      <th>0</th>\n",
       "      <td>salt lake city</td>\n",
       "      <td>17899</td>\n",
       "      <td>2012</td>\n",
       "      <td>volkswagen</td>\n",
       "      <td>golf r</td>\n",
       "      <td>excellent</td>\n",
       "      <td>4 cylinders</td>\n",
       "      <td>gas</td>\n",
       "      <td>63500.0</td>\n",
       "      <td>clean</td>\n",
       "      <td>manual</td>\n",
       "      <td>4wd</td>\n",
       "      <td>compact</td>\n",
       "      <td>hatchback</td>\n",
       "      <td>black</td>\n",
       "      <td>https://images.craigslist.org/00G0G_fTLDWM5Xyv...</td>\n",
       "      <td>PRICE REDUCED!   -Garage kept -Low Miles (63K)...</td>\n",
       "      <td>ut</td>\n",
       "    </tr>\n",
       "    <tr>\n",
       "      <th>1</th>\n",
       "      <td>salt lake city</td>\n",
       "      <td>0</td>\n",
       "      <td>2016</td>\n",
       "      <td>ford</td>\n",
       "      <td>f-150</td>\n",
       "      <td>excellent</td>\n",
       "      <td>NaN</td>\n",
       "      <td>gas</td>\n",
       "      <td>10.0</td>\n",
       "      <td>clean</td>\n",
       "      <td>automatic</td>\n",
       "      <td>4wd</td>\n",
       "      <td>NaN</td>\n",
       "      <td>NaN</td>\n",
       "      <td>NaN</td>\n",
       "      <td>https://images.craigslist.org/00v0v_7Cu0buIofU...</td>\n",
       "      <td>Drive it home today. Call (Or Text) us now !!C...</td>\n",
       "      <td>ut</td>\n",
       "    </tr>\n",
       "    <tr>\n",
       "      <th>2</th>\n",
       "      <td>salt lake city</td>\n",
       "      <td>46463</td>\n",
       "      <td>2015</td>\n",
       "      <td>gmc</td>\n",
       "      <td>sierra 1500</td>\n",
       "      <td>excellent</td>\n",
       "      <td>NaN</td>\n",
       "      <td>gas</td>\n",
       "      <td>7554.0</td>\n",
       "      <td>clean</td>\n",
       "      <td>automatic</td>\n",
       "      <td>4wd</td>\n",
       "      <td>NaN</td>\n",
       "      <td>NaN</td>\n",
       "      <td>white</td>\n",
       "      <td>https://images.craigslist.org/01515_lPvJ9bfbdY...</td>\n",
       "      <td>Drive it home today. Call (Or Text) us now !!C...</td>\n",
       "      <td>ut</td>\n",
       "    </tr>\n",
       "    <tr>\n",
       "      <th>3</th>\n",
       "      <td>salt lake city</td>\n",
       "      <td>0</td>\n",
       "      <td>2016</td>\n",
       "      <td>ford</td>\n",
       "      <td>f-150</td>\n",
       "      <td>excellent</td>\n",
       "      <td>NaN</td>\n",
       "      <td>gas</td>\n",
       "      <td>10.0</td>\n",
       "      <td>clean</td>\n",
       "      <td>automatic</td>\n",
       "      <td>4wd</td>\n",
       "      <td>NaN</td>\n",
       "      <td>NaN</td>\n",
       "      <td>NaN</td>\n",
       "      <td>https://images.craigslist.org/00T0T_6Rjfp3NS4O...</td>\n",
       "      <td>Drive it home today. Call (Or Text) us now !!C...</td>\n",
       "      <td>ut</td>\n",
       "    </tr>\n",
       "    <tr>\n",
       "      <th>4</th>\n",
       "      <td>salt lake city</td>\n",
       "      <td>49999</td>\n",
       "      <td>2018</td>\n",
       "      <td>ford</td>\n",
       "      <td>f-450</td>\n",
       "      <td>NaN</td>\n",
       "      <td>NaN</td>\n",
       "      <td>diesel</td>\n",
       "      <td>70150.0</td>\n",
       "      <td>clean</td>\n",
       "      <td>automatic</td>\n",
       "      <td>4wd</td>\n",
       "      <td>NaN</td>\n",
       "      <td>pickup</td>\n",
       "      <td>white</td>\n",
       "      <td>https://images.craigslist.org/00W0W_8yIUwRBXXd...</td>\n",
       "      <td>2018 Ford F-350 F350 F 350 SD Lariat Crew Cab ...</td>\n",
       "      <td>ut</td>\n",
       "    </tr>\n",
       "  </tbody>\n",
       "</table>\n",
       "</div>"
      ],
      "text/plain": [
       "           region  price  year manufacturer        model  condition  \\\n",
       "0  salt lake city  17899  2012   volkswagen       golf r  excellent   \n",
       "1  salt lake city      0  2016         ford        f-150  excellent   \n",
       "2  salt lake city  46463  2015          gmc  sierra 1500  excellent   \n",
       "3  salt lake city      0  2016         ford        f-150  excellent   \n",
       "4  salt lake city  49999  2018         ford        f-450        NaN   \n",
       "\n",
       "     cylinders    fuel  odometer  title transmission drive     size  \\\n",
       "0  4 cylinders     gas   63500.0  clean       manual   4wd  compact   \n",
       "1          NaN     gas      10.0  clean    automatic   4wd      NaN   \n",
       "2          NaN     gas    7554.0  clean    automatic   4wd      NaN   \n",
       "3          NaN     gas      10.0  clean    automatic   4wd      NaN   \n",
       "4          NaN  diesel   70150.0  clean    automatic   4wd      NaN   \n",
       "\n",
       "        type  color                                          image_url  \\\n",
       "0  hatchback  black  https://images.craigslist.org/00G0G_fTLDWM5Xyv...   \n",
       "1        NaN    NaN  https://images.craigslist.org/00v0v_7Cu0buIofU...   \n",
       "2        NaN  white  https://images.craigslist.org/01515_lPvJ9bfbdY...   \n",
       "3        NaN    NaN  https://images.craigslist.org/00T0T_6Rjfp3NS4O...   \n",
       "4     pickup  white  https://images.craigslist.org/00W0W_8yIUwRBXXd...   \n",
       "\n",
       "                                         description state  \n",
       "0  PRICE REDUCED!   -Garage kept -Low Miles (63K)...    ut  \n",
       "1  Drive it home today. Call (Or Text) us now !!C...    ut  \n",
       "2  Drive it home today. Call (Or Text) us now !!C...    ut  \n",
       "3  Drive it home today. Call (Or Text) us now !!C...    ut  \n",
       "4  2018 Ford F-350 F350 F 350 SD Lariat Crew Cab ...    ut  "
      ]
     },
     "execution_count": 17,
     "metadata": {},
     "output_type": "execute_result"
    }
   ],
   "source": [
    "df.head()"
   ]
  },
  {
   "cell_type": "markdown",
   "id": "9a6ad280",
   "metadata": {},
   "source": [
    "Convert odometer from float to int"
   ]
  },
  {
   "cell_type": "code",
   "execution_count": 18,
   "id": "09961651",
   "metadata": {},
   "outputs": [],
   "source": [
    "df['odometer'] = df['odometer'].apply(\"int64\")"
   ]
  },
  {
   "cell_type": "code",
   "execution_count": 19,
   "id": "013797d2",
   "metadata": {},
   "outputs": [
    {
     "data": {
      "text/plain": [
       "region          object\n",
       "price            int64\n",
       "year             int64\n",
       "manufacturer    object\n",
       "model           object\n",
       "condition       object\n",
       "cylinders       object\n",
       "fuel            object\n",
       "odometer         int64\n",
       "title           object\n",
       "transmission    object\n",
       "drive           object\n",
       "size            object\n",
       "type            object\n",
       "color           object\n",
       "image_url       object\n",
       "description     object\n",
       "state           object\n",
       "dtype: object"
      ]
     },
     "execution_count": 19,
     "metadata": {},
     "output_type": "execute_result"
    }
   ],
   "source": [
    "df.dtypes"
   ]
  },
  {
   "cell_type": "code",
   "execution_count": 20,
   "id": "2ae46537",
   "metadata": {},
   "outputs": [
    {
     "data": {
      "text/html": [
       "<div>\n",
       "<style scoped>\n",
       "    .dataframe tbody tr th:only-of-type {\n",
       "        vertical-align: middle;\n",
       "    }\n",
       "\n",
       "    .dataframe tbody tr th {\n",
       "        vertical-align: top;\n",
       "    }\n",
       "\n",
       "    .dataframe thead th {\n",
       "        text-align: right;\n",
       "    }\n",
       "</style>\n",
       "<table border=\"1\" class=\"dataframe\">\n",
       "  <thead>\n",
       "    <tr style=\"text-align: right;\">\n",
       "      <th></th>\n",
       "      <th>region</th>\n",
       "      <th>price</th>\n",
       "      <th>year</th>\n",
       "      <th>manufacturer</th>\n",
       "      <th>model</th>\n",
       "      <th>condition</th>\n",
       "      <th>cylinders</th>\n",
       "      <th>fuel</th>\n",
       "      <th>odometer</th>\n",
       "      <th>title</th>\n",
       "      <th>transmission</th>\n",
       "      <th>drive</th>\n",
       "      <th>size</th>\n",
       "      <th>type</th>\n",
       "      <th>color</th>\n",
       "      <th>image_url</th>\n",
       "      <th>description</th>\n",
       "      <th>state</th>\n",
       "    </tr>\n",
       "  </thead>\n",
       "  <tbody>\n",
       "    <tr>\n",
       "      <th>0</th>\n",
       "      <td>salt lake city</td>\n",
       "      <td>17899</td>\n",
       "      <td>2012</td>\n",
       "      <td>volkswagen</td>\n",
       "      <td>golf r</td>\n",
       "      <td>excellent</td>\n",
       "      <td>4 cylinders</td>\n",
       "      <td>gas</td>\n",
       "      <td>63500</td>\n",
       "      <td>clean</td>\n",
       "      <td>manual</td>\n",
       "      <td>4wd</td>\n",
       "      <td>compact</td>\n",
       "      <td>hatchback</td>\n",
       "      <td>black</td>\n",
       "      <td>https://images.craigslist.org/00G0G_fTLDWM5Xyv...</td>\n",
       "      <td>PRICE REDUCED!   -Garage kept -Low Miles (63K)...</td>\n",
       "      <td>ut</td>\n",
       "    </tr>\n",
       "    <tr>\n",
       "      <th>1</th>\n",
       "      <td>salt lake city</td>\n",
       "      <td>0</td>\n",
       "      <td>2016</td>\n",
       "      <td>ford</td>\n",
       "      <td>f-150</td>\n",
       "      <td>excellent</td>\n",
       "      <td>NaN</td>\n",
       "      <td>gas</td>\n",
       "      <td>10</td>\n",
       "      <td>clean</td>\n",
       "      <td>automatic</td>\n",
       "      <td>4wd</td>\n",
       "      <td>NaN</td>\n",
       "      <td>NaN</td>\n",
       "      <td>NaN</td>\n",
       "      <td>https://images.craigslist.org/00v0v_7Cu0buIofU...</td>\n",
       "      <td>Drive it home today. Call (Or Text) us now !!C...</td>\n",
       "      <td>ut</td>\n",
       "    </tr>\n",
       "    <tr>\n",
       "      <th>2</th>\n",
       "      <td>salt lake city</td>\n",
       "      <td>46463</td>\n",
       "      <td>2015</td>\n",
       "      <td>gmc</td>\n",
       "      <td>sierra 1500</td>\n",
       "      <td>excellent</td>\n",
       "      <td>NaN</td>\n",
       "      <td>gas</td>\n",
       "      <td>7554</td>\n",
       "      <td>clean</td>\n",
       "      <td>automatic</td>\n",
       "      <td>4wd</td>\n",
       "      <td>NaN</td>\n",
       "      <td>NaN</td>\n",
       "      <td>white</td>\n",
       "      <td>https://images.craigslist.org/01515_lPvJ9bfbdY...</td>\n",
       "      <td>Drive it home today. Call (Or Text) us now !!C...</td>\n",
       "      <td>ut</td>\n",
       "    </tr>\n",
       "    <tr>\n",
       "      <th>3</th>\n",
       "      <td>salt lake city</td>\n",
       "      <td>0</td>\n",
       "      <td>2016</td>\n",
       "      <td>ford</td>\n",
       "      <td>f-150</td>\n",
       "      <td>excellent</td>\n",
       "      <td>NaN</td>\n",
       "      <td>gas</td>\n",
       "      <td>10</td>\n",
       "      <td>clean</td>\n",
       "      <td>automatic</td>\n",
       "      <td>4wd</td>\n",
       "      <td>NaN</td>\n",
       "      <td>NaN</td>\n",
       "      <td>NaN</td>\n",
       "      <td>https://images.craigslist.org/00T0T_6Rjfp3NS4O...</td>\n",
       "      <td>Drive it home today. Call (Or Text) us now !!C...</td>\n",
       "      <td>ut</td>\n",
       "    </tr>\n",
       "    <tr>\n",
       "      <th>4</th>\n",
       "      <td>salt lake city</td>\n",
       "      <td>49999</td>\n",
       "      <td>2018</td>\n",
       "      <td>ford</td>\n",
       "      <td>f-450</td>\n",
       "      <td>NaN</td>\n",
       "      <td>NaN</td>\n",
       "      <td>diesel</td>\n",
       "      <td>70150</td>\n",
       "      <td>clean</td>\n",
       "      <td>automatic</td>\n",
       "      <td>4wd</td>\n",
       "      <td>NaN</td>\n",
       "      <td>pickup</td>\n",
       "      <td>white</td>\n",
       "      <td>https://images.craigslist.org/00W0W_8yIUwRBXXd...</td>\n",
       "      <td>2018 Ford F-350 F350 F 350 SD Lariat Crew Cab ...</td>\n",
       "      <td>ut</td>\n",
       "    </tr>\n",
       "  </tbody>\n",
       "</table>\n",
       "</div>"
      ],
      "text/plain": [
       "           region  price  year manufacturer        model  condition  \\\n",
       "0  salt lake city  17899  2012   volkswagen       golf r  excellent   \n",
       "1  salt lake city      0  2016         ford        f-150  excellent   \n",
       "2  salt lake city  46463  2015          gmc  sierra 1500  excellent   \n",
       "3  salt lake city      0  2016         ford        f-150  excellent   \n",
       "4  salt lake city  49999  2018         ford        f-450        NaN   \n",
       "\n",
       "     cylinders    fuel  odometer  title transmission drive     size  \\\n",
       "0  4 cylinders     gas     63500  clean       manual   4wd  compact   \n",
       "1          NaN     gas        10  clean    automatic   4wd      NaN   \n",
       "2          NaN     gas      7554  clean    automatic   4wd      NaN   \n",
       "3          NaN     gas        10  clean    automatic   4wd      NaN   \n",
       "4          NaN  diesel     70150  clean    automatic   4wd      NaN   \n",
       "\n",
       "        type  color                                          image_url  \\\n",
       "0  hatchback  black  https://images.craigslist.org/00G0G_fTLDWM5Xyv...   \n",
       "1        NaN    NaN  https://images.craigslist.org/00v0v_7Cu0buIofU...   \n",
       "2        NaN  white  https://images.craigslist.org/01515_lPvJ9bfbdY...   \n",
       "3        NaN    NaN  https://images.craigslist.org/00T0T_6Rjfp3NS4O...   \n",
       "4     pickup  white  https://images.craigslist.org/00W0W_8yIUwRBXXd...   \n",
       "\n",
       "                                         description state  \n",
       "0  PRICE REDUCED!   -Garage kept -Low Miles (63K)...    ut  \n",
       "1  Drive it home today. Call (Or Text) us now !!C...    ut  \n",
       "2  Drive it home today. Call (Or Text) us now !!C...    ut  \n",
       "3  Drive it home today. Call (Or Text) us now !!C...    ut  \n",
       "4  2018 Ford F-350 F350 F 350 SD Lariat Crew Cab ...    ut  "
      ]
     },
     "execution_count": 20,
     "metadata": {},
     "output_type": "execute_result"
    }
   ],
   "source": [
    "df.head()"
   ]
  },
  {
   "cell_type": "markdown",
   "id": "4fd66b8b",
   "metadata": {},
   "source": [
    "Drop all nan rows"
   ]
  },
  {
   "cell_type": "code",
   "execution_count": 21,
   "id": "ff0aa834",
   "metadata": {},
   "outputs": [],
   "source": [
    "df1 = df.dropna()"
   ]
  },
  {
   "cell_type": "code",
   "execution_count": 22,
   "id": "38336031",
   "metadata": {},
   "outputs": [
    {
     "data": {
      "text/plain": [
       "4725"
      ]
     },
     "execution_count": 22,
     "metadata": {},
     "output_type": "execute_result"
    }
   ],
   "source": [
    "len(df1)"
   ]
  },
  {
   "cell_type": "markdown",
   "id": "a6ce2081",
   "metadata": {},
   "source": [
    "Remove all rows where price<100 or price>500000"
   ]
  },
  {
   "cell_type": "code",
   "execution_count": 23,
   "id": "354013ad",
   "metadata": {},
   "outputs": [],
   "source": [
    "df2 = (df1[df1.price >= 100])"
   ]
  },
  {
   "cell_type": "code",
   "execution_count": 24,
   "id": "ec5290b1",
   "metadata": {},
   "outputs": [],
   "source": [
    "df3 = (df2[df2.price <= 500000])"
   ]
  },
  {
   "cell_type": "code",
   "execution_count": 25,
   "id": "a1564b47",
   "metadata": {},
   "outputs": [
    {
     "data": {
      "text/plain": [
       "10806     7000\n",
       "3488     34995\n",
       "9089      1000\n",
       "2760      9998\n",
       "14555     2800\n",
       "16299    14500\n",
       "12689     2500\n",
       "11297     4999\n",
       "15568     5800\n",
       "2125     12498\n",
       "Name: price, dtype: int64"
      ]
     },
     "execution_count": 25,
     "metadata": {},
     "output_type": "execute_result"
    }
   ],
   "source": [
    "df3.price.sample(10)"
   ]
  },
  {
   "cell_type": "code",
   "execution_count": 26,
   "id": "a70aa10a",
   "metadata": {},
   "outputs": [
    {
     "data": {
      "text/plain": [
       "4582"
      ]
     },
     "execution_count": 26,
     "metadata": {},
     "output_type": "execute_result"
    }
   ],
   "source": [
    "len(df3)"
   ]
  },
  {
   "cell_type": "code",
   "execution_count": 27,
   "id": "c1d52aac",
   "metadata": {},
   "outputs": [
    {
     "data": {
      "text/html": [
       "<div>\n",
       "<style scoped>\n",
       "    .dataframe tbody tr th:only-of-type {\n",
       "        vertical-align: middle;\n",
       "    }\n",
       "\n",
       "    .dataframe tbody tr th {\n",
       "        vertical-align: top;\n",
       "    }\n",
       "\n",
       "    .dataframe thead th {\n",
       "        text-align: right;\n",
       "    }\n",
       "</style>\n",
       "<table border=\"1\" class=\"dataframe\">\n",
       "  <thead>\n",
       "    <tr style=\"text-align: right;\">\n",
       "      <th></th>\n",
       "      <th>region</th>\n",
       "      <th>price</th>\n",
       "      <th>year</th>\n",
       "      <th>manufacturer</th>\n",
       "      <th>model</th>\n",
       "      <th>condition</th>\n",
       "      <th>cylinders</th>\n",
       "      <th>fuel</th>\n",
       "      <th>odometer</th>\n",
       "      <th>title</th>\n",
       "      <th>transmission</th>\n",
       "      <th>drive</th>\n",
       "      <th>size</th>\n",
       "      <th>type</th>\n",
       "      <th>color</th>\n",
       "      <th>image_url</th>\n",
       "      <th>description</th>\n",
       "      <th>state</th>\n",
       "    </tr>\n",
       "  </thead>\n",
       "  <tbody>\n",
       "    <tr>\n",
       "      <th>0</th>\n",
       "      <td>salt lake city</td>\n",
       "      <td>17899</td>\n",
       "      <td>2012</td>\n",
       "      <td>volkswagen</td>\n",
       "      <td>golf r</td>\n",
       "      <td>excellent</td>\n",
       "      <td>4 cylinders</td>\n",
       "      <td>gas</td>\n",
       "      <td>63500</td>\n",
       "      <td>clean</td>\n",
       "      <td>manual</td>\n",
       "      <td>4wd</td>\n",
       "      <td>compact</td>\n",
       "      <td>hatchback</td>\n",
       "      <td>black</td>\n",
       "      <td>https://images.craigslist.org/00G0G_fTLDWM5Xyv...</td>\n",
       "      <td>PRICE REDUCED!   -Garage kept -Low Miles (63K)...</td>\n",
       "      <td>ut</td>\n",
       "    </tr>\n",
       "    <tr>\n",
       "      <th>24</th>\n",
       "      <td>salt lake city</td>\n",
       "      <td>4600</td>\n",
       "      <td>2008</td>\n",
       "      <td>honda</td>\n",
       "      <td>civic</td>\n",
       "      <td>good</td>\n",
       "      <td>4 cylinders</td>\n",
       "      <td>gas</td>\n",
       "      <td>110982</td>\n",
       "      <td>clean</td>\n",
       "      <td>automatic</td>\n",
       "      <td>fwd</td>\n",
       "      <td>mid-size</td>\n",
       "      <td>sedan</td>\n",
       "      <td>grey</td>\n",
       "      <td>https://images.craigslist.org/00F0F_iyJxhCTmYP...</td>\n",
       "      <td>Selling this 2008 Honda Civic 1.8L four door L...</td>\n",
       "      <td>ut</td>\n",
       "    </tr>\n",
       "    <tr>\n",
       "      <th>48</th>\n",
       "      <td>salt lake city</td>\n",
       "      <td>28000</td>\n",
       "      <td>2004</td>\n",
       "      <td>ford</td>\n",
       "      <td>f550 mechanics service</td>\n",
       "      <td>good</td>\n",
       "      <td>10 cylinders</td>\n",
       "      <td>gas</td>\n",
       "      <td>67348</td>\n",
       "      <td>clean</td>\n",
       "      <td>automatic</td>\n",
       "      <td>4wd</td>\n",
       "      <td>full-size</td>\n",
       "      <td>truck</td>\n",
       "      <td>white</td>\n",
       "      <td>https://images.craigslist.org/01414_iVqrz2Dm9q...</td>\n",
       "      <td>Mechanics Service Truck 2004 Ford F550 4x4 Ext...</td>\n",
       "      <td>ut</td>\n",
       "    </tr>\n",
       "    <tr>\n",
       "      <th>57</th>\n",
       "      <td>salt lake city</td>\n",
       "      <td>2500</td>\n",
       "      <td>2004</td>\n",
       "      <td>ford</td>\n",
       "      <td>mustang</td>\n",
       "      <td>good</td>\n",
       "      <td>6 cylinders</td>\n",
       "      <td>gas</td>\n",
       "      <td>129000</td>\n",
       "      <td>clean</td>\n",
       "      <td>manual</td>\n",
       "      <td>rwd</td>\n",
       "      <td>full-size</td>\n",
       "      <td>coupe</td>\n",
       "      <td>blue</td>\n",
       "      <td>https://images.craigslist.org/00707_dEYC3x1Ane...</td>\n",
       "      <td>Hi every1, I want to sell my own car. This car...</td>\n",
       "      <td>ut</td>\n",
       "    </tr>\n",
       "    <tr>\n",
       "      <th>109</th>\n",
       "      <td>st george</td>\n",
       "      <td>12000</td>\n",
       "      <td>2015</td>\n",
       "      <td>volkswagen</td>\n",
       "      <td>jetta</td>\n",
       "      <td>like new</td>\n",
       "      <td>4 cylinders</td>\n",
       "      <td>gas</td>\n",
       "      <td>65000</td>\n",
       "      <td>clean</td>\n",
       "      <td>automatic</td>\n",
       "      <td>fwd</td>\n",
       "      <td>full-size</td>\n",
       "      <td>sedan</td>\n",
       "      <td>white</td>\n",
       "      <td>https://images.craigslist.org/00e0e_4gHaTRIl3I...</td>\n",
       "      <td>Selling my because im am looking for a truck  ...</td>\n",
       "      <td>ut</td>\n",
       "    </tr>\n",
       "  </tbody>\n",
       "</table>\n",
       "</div>"
      ],
      "text/plain": [
       "             region  price  year manufacturer                   model  \\\n",
       "0    salt lake city  17899  2012   volkswagen                  golf r   \n",
       "24   salt lake city   4600  2008        honda                   civic   \n",
       "48   salt lake city  28000  2004         ford  f550 mechanics service   \n",
       "57   salt lake city   2500  2004         ford                 mustang   \n",
       "109       st george  12000  2015   volkswagen                   jetta   \n",
       "\n",
       "     condition     cylinders fuel  odometer  title transmission drive  \\\n",
       "0    excellent   4 cylinders  gas     63500  clean       manual   4wd   \n",
       "24        good   4 cylinders  gas    110982  clean    automatic   fwd   \n",
       "48        good  10 cylinders  gas     67348  clean    automatic   4wd   \n",
       "57        good   6 cylinders  gas    129000  clean       manual   rwd   \n",
       "109   like new   4 cylinders  gas     65000  clean    automatic   fwd   \n",
       "\n",
       "          size       type  color  \\\n",
       "0      compact  hatchback  black   \n",
       "24    mid-size      sedan   grey   \n",
       "48   full-size      truck  white   \n",
       "57   full-size      coupe   blue   \n",
       "109  full-size      sedan  white   \n",
       "\n",
       "                                             image_url  \\\n",
       "0    https://images.craigslist.org/00G0G_fTLDWM5Xyv...   \n",
       "24   https://images.craigslist.org/00F0F_iyJxhCTmYP...   \n",
       "48   https://images.craigslist.org/01414_iVqrz2Dm9q...   \n",
       "57   https://images.craigslist.org/00707_dEYC3x1Ane...   \n",
       "109  https://images.craigslist.org/00e0e_4gHaTRIl3I...   \n",
       "\n",
       "                                           description state  \n",
       "0    PRICE REDUCED!   -Garage kept -Low Miles (63K)...    ut  \n",
       "24   Selling this 2008 Honda Civic 1.8L four door L...    ut  \n",
       "48   Mechanics Service Truck 2004 Ford F550 4x4 Ext...    ut  \n",
       "57   Hi every1, I want to sell my own car. This car...    ut  \n",
       "109  Selling my because im am looking for a truck  ...    ut  "
      ]
     },
     "execution_count": 27,
     "metadata": {},
     "output_type": "execute_result"
    }
   ],
   "source": [
    "df3.head()"
   ]
  },
  {
   "cell_type": "markdown",
   "id": "5525cb66",
   "metadata": {},
   "source": [
    "These next cells show how complete the data is. df2 has no missing data. df1 has no missing data, but on some rows price was listed as less than 100 or more than 500000, which are extremely likely to be incorrect so they were removed."
   ]
  },
  {
   "cell_type": "code",
   "execution_count": 28,
   "id": "35ddb9a8",
   "metadata": {},
   "outputs": [
    {
     "data": {
      "text/plain": [
       "region          20001\n",
       "price           20001\n",
       "year            20001\n",
       "manufacturer    19296\n",
       "model           19736\n",
       "condition       10849\n",
       "cylinders       12916\n",
       "fuel            19928\n",
       "odometer        20001\n",
       "title           19891\n",
       "transmission    19811\n",
       "drive           15359\n",
       "size             6886\n",
       "type            16342\n",
       "color           14487\n",
       "image_url       20001\n",
       "description     20001\n",
       "state           20001\n",
       "dtype: int64"
      ]
     },
     "execution_count": 28,
     "metadata": {},
     "output_type": "execute_result"
    }
   ],
   "source": [
    "df.count()"
   ]
  },
  {
   "cell_type": "code",
   "execution_count": 29,
   "id": "df423eb8",
   "metadata": {},
   "outputs": [
    {
     "data": {
      "text/plain": [
       "20001"
      ]
     },
     "execution_count": 29,
     "metadata": {},
     "output_type": "execute_result"
    }
   ],
   "source": [
    "len(df)"
   ]
  },
  {
   "cell_type": "code",
   "execution_count": 30,
   "id": "da1ee040",
   "metadata": {},
   "outputs": [
    {
     "data": {
      "text/plain": [
       "region          4725\n",
       "price           4725\n",
       "year            4725\n",
       "manufacturer    4725\n",
       "model           4725\n",
       "condition       4725\n",
       "cylinders       4725\n",
       "fuel            4725\n",
       "odometer        4725\n",
       "title           4725\n",
       "transmission    4725\n",
       "drive           4725\n",
       "size            4725\n",
       "type            4725\n",
       "color           4725\n",
       "image_url       4725\n",
       "description     4725\n",
       "state           4725\n",
       "dtype: int64"
      ]
     },
     "execution_count": 30,
     "metadata": {},
     "output_type": "execute_result"
    }
   ],
   "source": [
    "df1.count()"
   ]
  },
  {
   "cell_type": "code",
   "execution_count": 31,
   "id": "010082a5",
   "metadata": {},
   "outputs": [
    {
     "data": {
      "text/plain": [
       "4725"
      ]
     },
     "execution_count": 31,
     "metadata": {},
     "output_type": "execute_result"
    }
   ],
   "source": [
    "len(df1)"
   ]
  },
  {
   "cell_type": "code",
   "execution_count": 32,
   "id": "54e8c11e",
   "metadata": {},
   "outputs": [
    {
     "data": {
      "text/plain": [
       "region          4583\n",
       "price           4583\n",
       "year            4583\n",
       "manufacturer    4583\n",
       "model           4583\n",
       "condition       4583\n",
       "cylinders       4583\n",
       "fuel            4583\n",
       "odometer        4583\n",
       "title           4583\n",
       "transmission    4583\n",
       "drive           4583\n",
       "size            4583\n",
       "type            4583\n",
       "color           4583\n",
       "image_url       4583\n",
       "description     4583\n",
       "state           4583\n",
       "dtype: int64"
      ]
     },
     "execution_count": 32,
     "metadata": {},
     "output_type": "execute_result"
    }
   ],
   "source": [
    "df2.count()"
   ]
  },
  {
   "cell_type": "code",
   "execution_count": 33,
   "id": "4ee8db89",
   "metadata": {},
   "outputs": [
    {
     "data": {
      "text/plain": [
       "4583"
      ]
     },
     "execution_count": 33,
     "metadata": {},
     "output_type": "execute_result"
    }
   ],
   "source": [
    "len(df2)"
   ]
  },
  {
   "cell_type": "code",
   "execution_count": 34,
   "id": "ca77128a",
   "metadata": {},
   "outputs": [
    {
     "data": {
      "text/plain": [
       "region          4582\n",
       "price           4582\n",
       "year            4582\n",
       "manufacturer    4582\n",
       "model           4582\n",
       "condition       4582\n",
       "cylinders       4582\n",
       "fuel            4582\n",
       "odometer        4582\n",
       "title           4582\n",
       "transmission    4582\n",
       "drive           4582\n",
       "size            4582\n",
       "type            4582\n",
       "color           4582\n",
       "image_url       4582\n",
       "description     4582\n",
       "state           4582\n",
       "dtype: int64"
      ]
     },
     "execution_count": 34,
     "metadata": {},
     "output_type": "execute_result"
    }
   ],
   "source": [
    "df3.count()"
   ]
  },
  {
   "cell_type": "code",
   "execution_count": 35,
   "id": "9049cb58",
   "metadata": {},
   "outputs": [
    {
     "data": {
      "text/plain": [
       "4582"
      ]
     },
     "execution_count": 35,
     "metadata": {},
     "output_type": "execute_result"
    }
   ],
   "source": [
    "len(df3)"
   ]
  },
  {
   "cell_type": "code",
   "execution_count": 36,
   "id": "a6d8a763",
   "metadata": {},
   "outputs": [
    {
     "data": {
      "text/html": [
       "<div>\n",
       "<style scoped>\n",
       "    .dataframe tbody tr th:only-of-type {\n",
       "        vertical-align: middle;\n",
       "    }\n",
       "\n",
       "    .dataframe tbody tr th {\n",
       "        vertical-align: top;\n",
       "    }\n",
       "\n",
       "    .dataframe thead th {\n",
       "        text-align: right;\n",
       "    }\n",
       "</style>\n",
       "<table border=\"1\" class=\"dataframe\">\n",
       "  <thead>\n",
       "    <tr style=\"text-align: right;\">\n",
       "      <th></th>\n",
       "      <th>price</th>\n",
       "      <th>year</th>\n",
       "      <th>odometer</th>\n",
       "    </tr>\n",
       "  </thead>\n",
       "  <tbody>\n",
       "    <tr>\n",
       "      <th>count</th>\n",
       "      <td>4582.000000</td>\n",
       "      <td>4582.000000</td>\n",
       "      <td>4.582000e+03</td>\n",
       "    </tr>\n",
       "    <tr>\n",
       "      <th>mean</th>\n",
       "      <td>10817.589044</td>\n",
       "      <td>2008.118725</td>\n",
       "      <td>-8.756366e+17</td>\n",
       "    </tr>\n",
       "    <tr>\n",
       "      <th>std</th>\n",
       "      <td>9313.795503</td>\n",
       "      <td>7.983576</td>\n",
       "      <td>2.703919e+18</td>\n",
       "    </tr>\n",
       "    <tr>\n",
       "      <th>min</th>\n",
       "      <td>265.000000</td>\n",
       "      <td>1917.000000</td>\n",
       "      <td>-9.223372e+18</td>\n",
       "    </tr>\n",
       "    <tr>\n",
       "      <th>25%</th>\n",
       "      <td>4790.000000</td>\n",
       "      <td>2005.000000</td>\n",
       "      <td>5.400000e+04</td>\n",
       "    </tr>\n",
       "    <tr>\n",
       "      <th>50%</th>\n",
       "      <td>7742.500000</td>\n",
       "      <td>2009.000000</td>\n",
       "      <td>1.080000e+05</td>\n",
       "    </tr>\n",
       "    <tr>\n",
       "      <th>75%</th>\n",
       "      <td>14500.000000</td>\n",
       "      <td>2013.000000</td>\n",
       "      <td>1.481162e+05</td>\n",
       "    </tr>\n",
       "    <tr>\n",
       "      <th>max</th>\n",
       "      <td>135000.000000</td>\n",
       "      <td>2020.000000</td>\n",
       "      <td>2.500005e+06</td>\n",
       "    </tr>\n",
       "  </tbody>\n",
       "</table>\n",
       "</div>"
      ],
      "text/plain": [
       "               price         year      odometer\n",
       "count    4582.000000  4582.000000  4.582000e+03\n",
       "mean    10817.589044  2008.118725 -8.756366e+17\n",
       "std      9313.795503     7.983576  2.703919e+18\n",
       "min       265.000000  1917.000000 -9.223372e+18\n",
       "25%      4790.000000  2005.000000  5.400000e+04\n",
       "50%      7742.500000  2009.000000  1.080000e+05\n",
       "75%     14500.000000  2013.000000  1.481162e+05\n",
       "max    135000.000000  2020.000000  2.500005e+06"
      ]
     },
     "execution_count": 36,
     "metadata": {},
     "output_type": "execute_result"
    }
   ],
   "source": [
    "df3.describe()"
   ]
  },
  {
   "cell_type": "code",
   "execution_count": 37,
   "id": "a947c683",
   "metadata": {},
   "outputs": [
    {
     "data": {
      "text/html": [
       "<div>\n",
       "<style scoped>\n",
       "    .dataframe tbody tr th:only-of-type {\n",
       "        vertical-align: middle;\n",
       "    }\n",
       "\n",
       "    .dataframe tbody tr th {\n",
       "        vertical-align: top;\n",
       "    }\n",
       "\n",
       "    .dataframe thead th {\n",
       "        text-align: right;\n",
       "    }\n",
       "</style>\n",
       "<table border=\"1\" class=\"dataframe\">\n",
       "  <thead>\n",
       "    <tr style=\"text-align: right;\">\n",
       "      <th></th>\n",
       "      <th>price</th>\n",
       "      <th>year</th>\n",
       "      <th>odometer</th>\n",
       "    </tr>\n",
       "  </thead>\n",
       "  <tbody>\n",
       "    <tr>\n",
       "      <th>count</th>\n",
       "      <td>4582</td>\n",
       "      <td>4582</td>\n",
       "      <td>4582</td>\n",
       "    </tr>\n",
       "    <tr>\n",
       "      <th>mean</th>\n",
       "      <td>10818</td>\n",
       "      <td>2008</td>\n",
       "      <td>-875636585777246208</td>\n",
       "    </tr>\n",
       "    <tr>\n",
       "      <th>std</th>\n",
       "      <td>9314</td>\n",
       "      <td>8</td>\n",
       "      <td>2703919044588838400</td>\n",
       "    </tr>\n",
       "    <tr>\n",
       "      <th>min</th>\n",
       "      <td>265</td>\n",
       "      <td>1917</td>\n",
       "      <td>-9223372036854775808</td>\n",
       "    </tr>\n",
       "    <tr>\n",
       "      <th>25%</th>\n",
       "      <td>4790</td>\n",
       "      <td>2005</td>\n",
       "      <td>54000</td>\n",
       "    </tr>\n",
       "    <tr>\n",
       "      <th>50%</th>\n",
       "      <td>7742</td>\n",
       "      <td>2009</td>\n",
       "      <td>108000</td>\n",
       "    </tr>\n",
       "    <tr>\n",
       "      <th>75%</th>\n",
       "      <td>14500</td>\n",
       "      <td>2013</td>\n",
       "      <td>148116</td>\n",
       "    </tr>\n",
       "    <tr>\n",
       "      <th>max</th>\n",
       "      <td>135000</td>\n",
       "      <td>2020</td>\n",
       "      <td>2500005</td>\n",
       "    </tr>\n",
       "  </tbody>\n",
       "</table>\n",
       "</div>"
      ],
      "text/plain": [
       "        price  year              odometer\n",
       "count    4582  4582                  4582\n",
       "mean    10818  2008   -875636585777246208\n",
       "std      9314     8   2703919044588838400\n",
       "min       265  1917  -9223372036854775808\n",
       "25%      4790  2005                 54000\n",
       "50%      7742  2009                108000\n",
       "75%     14500  2013                148116\n",
       "max    135000  2020               2500005"
      ]
     },
     "execution_count": 37,
     "metadata": {},
     "output_type": "execute_result"
    }
   ],
   "source": [
    "df3.describe().apply(lambda s: s.apply('{0:.0f}'.format))"
   ]
  },
  {
   "cell_type": "code",
   "execution_count": 38,
   "id": "ce9a97c9",
   "metadata": {},
   "outputs": [],
   "source": [
    "df4 = (df3[df3.odometer >= 10])"
   ]
  },
  {
   "cell_type": "code",
   "execution_count": 39,
   "id": "da4bf71c",
   "metadata": {},
   "outputs": [
    {
     "data": {
      "text/html": [
       "<div>\n",
       "<style scoped>\n",
       "    .dataframe tbody tr th:only-of-type {\n",
       "        vertical-align: middle;\n",
       "    }\n",
       "\n",
       "    .dataframe tbody tr th {\n",
       "        vertical-align: top;\n",
       "    }\n",
       "\n",
       "    .dataframe thead th {\n",
       "        text-align: right;\n",
       "    }\n",
       "</style>\n",
       "<table border=\"1\" class=\"dataframe\">\n",
       "  <thead>\n",
       "    <tr style=\"text-align: right;\">\n",
       "      <th></th>\n",
       "      <th>price</th>\n",
       "      <th>year</th>\n",
       "      <th>odometer</th>\n",
       "    </tr>\n",
       "  </thead>\n",
       "  <tbody>\n",
       "    <tr>\n",
       "      <th>count</th>\n",
       "      <td>4131</td>\n",
       "      <td>4131</td>\n",
       "      <td>4131</td>\n",
       "    </tr>\n",
       "    <tr>\n",
       "      <th>mean</th>\n",
       "      <td>10932</td>\n",
       "      <td>2008</td>\n",
       "      <td>117593</td>\n",
       "    </tr>\n",
       "    <tr>\n",
       "      <th>std</th>\n",
       "      <td>9226</td>\n",
       "      <td>7</td>\n",
       "      <td>86338</td>\n",
       "    </tr>\n",
       "    <tr>\n",
       "      <th>min</th>\n",
       "      <td>265</td>\n",
       "      <td>1917</td>\n",
       "      <td>22</td>\n",
       "    </tr>\n",
       "    <tr>\n",
       "      <th>25%</th>\n",
       "      <td>4900</td>\n",
       "      <td>2005</td>\n",
       "      <td>74097</td>\n",
       "    </tr>\n",
       "    <tr>\n",
       "      <th>50%</th>\n",
       "      <td>7990</td>\n",
       "      <td>2009</td>\n",
       "      <td>116856</td>\n",
       "    </tr>\n",
       "    <tr>\n",
       "      <th>75%</th>\n",
       "      <td>14950</td>\n",
       "      <td>2013</td>\n",
       "      <td>152224</td>\n",
       "    </tr>\n",
       "    <tr>\n",
       "      <th>max</th>\n",
       "      <td>135000</td>\n",
       "      <td>2020</td>\n",
       "      <td>2500005</td>\n",
       "    </tr>\n",
       "  </tbody>\n",
       "</table>\n",
       "</div>"
      ],
      "text/plain": [
       "        price  year odometer\n",
       "count    4131  4131     4131\n",
       "mean    10932  2008   117593\n",
       "std      9226     7    86338\n",
       "min       265  1917       22\n",
       "25%      4900  2005    74097\n",
       "50%      7990  2009   116856\n",
       "75%     14950  2013   152224\n",
       "max    135000  2020  2500005"
      ]
     },
     "execution_count": 39,
     "metadata": {},
     "output_type": "execute_result"
    }
   ],
   "source": [
    "df4.describe().apply(lambda s: s.apply('{0:.0f}'.format))"
   ]
  },
  {
   "cell_type": "code",
   "execution_count": 40,
   "id": "223d99bd",
   "metadata": {},
   "outputs": [],
   "source": [
    "df5 = (df4[df4.odometer <= 450000])"
   ]
  },
  {
   "cell_type": "code",
   "execution_count": 41,
   "id": "e2fd4c30",
   "metadata": {},
   "outputs": [
    {
     "data": {
      "text/html": [
       "<div>\n",
       "<style scoped>\n",
       "    .dataframe tbody tr th:only-of-type {\n",
       "        vertical-align: middle;\n",
       "    }\n",
       "\n",
       "    .dataframe tbody tr th {\n",
       "        vertical-align: top;\n",
       "    }\n",
       "\n",
       "    .dataframe thead th {\n",
       "        text-align: right;\n",
       "    }\n",
       "</style>\n",
       "<table border=\"1\" class=\"dataframe\">\n",
       "  <thead>\n",
       "    <tr style=\"text-align: right;\">\n",
       "      <th></th>\n",
       "      <th>price</th>\n",
       "      <th>year</th>\n",
       "      <th>odometer</th>\n",
       "    </tr>\n",
       "  </thead>\n",
       "  <tbody>\n",
       "    <tr>\n",
       "      <th>count</th>\n",
       "      <td>4125</td>\n",
       "      <td>4125</td>\n",
       "      <td>4125</td>\n",
       "    </tr>\n",
       "    <tr>\n",
       "      <th>mean</th>\n",
       "      <td>10945</td>\n",
       "      <td>2008</td>\n",
       "      <td>115418</td>\n",
       "    </tr>\n",
       "    <tr>\n",
       "      <th>std</th>\n",
       "      <td>9227</td>\n",
       "      <td>7</td>\n",
       "      <td>59858</td>\n",
       "    </tr>\n",
       "    <tr>\n",
       "      <th>min</th>\n",
       "      <td>265</td>\n",
       "      <td>1917</td>\n",
       "      <td>22</td>\n",
       "    </tr>\n",
       "    <tr>\n",
       "      <th>25%</th>\n",
       "      <td>4950</td>\n",
       "      <td>2005</td>\n",
       "      <td>74097</td>\n",
       "    </tr>\n",
       "    <tr>\n",
       "      <th>50%</th>\n",
       "      <td>7990</td>\n",
       "      <td>2009</td>\n",
       "      <td>116783</td>\n",
       "    </tr>\n",
       "    <tr>\n",
       "      <th>75%</th>\n",
       "      <td>14989</td>\n",
       "      <td>2013</td>\n",
       "      <td>152000</td>\n",
       "    </tr>\n",
       "    <tr>\n",
       "      <th>max</th>\n",
       "      <td>135000</td>\n",
       "      <td>2020</td>\n",
       "      <td>417000</td>\n",
       "    </tr>\n",
       "  </tbody>\n",
       "</table>\n",
       "</div>"
      ],
      "text/plain": [
       "        price  year odometer\n",
       "count    4125  4125     4125\n",
       "mean    10945  2008   115418\n",
       "std      9227     7    59858\n",
       "min       265  1917       22\n",
       "25%      4950  2005    74097\n",
       "50%      7990  2009   116783\n",
       "75%     14989  2013   152000\n",
       "max    135000  2020   417000"
      ]
     },
     "execution_count": 41,
     "metadata": {},
     "output_type": "execute_result"
    }
   ],
   "source": [
    "df5.describe().apply(lambda s: s.apply('{0:.0f}'.format))"
   ]
  },
  {
   "cell_type": "code",
   "execution_count": 42,
   "id": "57f7d141",
   "metadata": {},
   "outputs": [
    {
     "data": {
      "text/html": [
       "<div>\n",
       "<style scoped>\n",
       "    .dataframe tbody tr th:only-of-type {\n",
       "        vertical-align: middle;\n",
       "    }\n",
       "\n",
       "    .dataframe tbody tr th {\n",
       "        vertical-align: top;\n",
       "    }\n",
       "\n",
       "    .dataframe thead th {\n",
       "        text-align: right;\n",
       "    }\n",
       "</style>\n",
       "<table border=\"1\" class=\"dataframe\">\n",
       "  <thead>\n",
       "    <tr style=\"text-align: right;\">\n",
       "      <th></th>\n",
       "      <th>region</th>\n",
       "      <th>price</th>\n",
       "      <th>year</th>\n",
       "      <th>manufacturer</th>\n",
       "      <th>model</th>\n",
       "      <th>condition</th>\n",
       "      <th>cylinders</th>\n",
       "      <th>fuel</th>\n",
       "      <th>odometer</th>\n",
       "      <th>title</th>\n",
       "      <th>transmission</th>\n",
       "      <th>drive</th>\n",
       "      <th>size</th>\n",
       "      <th>type</th>\n",
       "      <th>color</th>\n",
       "      <th>image_url</th>\n",
       "      <th>description</th>\n",
       "      <th>state</th>\n",
       "    </tr>\n",
       "  </thead>\n",
       "  <tbody>\n",
       "    <tr>\n",
       "      <th>15716</th>\n",
       "      <td>roanoke</td>\n",
       "      <td>6990</td>\n",
       "      <td>2013</td>\n",
       "      <td>ford</td>\n",
       "      <td>edge se</td>\n",
       "      <td>excellent</td>\n",
       "      <td>6 cylinders</td>\n",
       "      <td>gas</td>\n",
       "      <td>135820</td>\n",
       "      <td>clean</td>\n",
       "      <td>automatic</td>\n",
       "      <td>fwd</td>\n",
       "      <td>mid-size</td>\n",
       "      <td>SUV</td>\n",
       "      <td>white</td>\n",
       "      <td>https://images.craigslist.org/00c0c_8sKy3Yq7cN...</td>\n",
       "      <td>Best Roanoke Auto Sales is located in the beau...</td>\n",
       "      <td>va</td>\n",
       "    </tr>\n",
       "    <tr>\n",
       "      <th>2796</th>\n",
       "      <td>vermont</td>\n",
       "      <td>7998</td>\n",
       "      <td>2012</td>\n",
       "      <td>dodge</td>\n",
       "      <td>grand caravan se</td>\n",
       "      <td>good</td>\n",
       "      <td>6 cylinders</td>\n",
       "      <td>gas</td>\n",
       "      <td>107942</td>\n",
       "      <td>clean</td>\n",
       "      <td>automatic</td>\n",
       "      <td>fwd</td>\n",
       "      <td>full-size</td>\n",
       "      <td>van</td>\n",
       "      <td>red</td>\n",
       "      <td>https://images.craigslist.org/00w0w_6rN49xg9Fs...</td>\n",
       "      <td>PLEASE VIEW THE FREE CARFAX HISTORY REPORT AT ...</td>\n",
       "      <td>vt</td>\n",
       "    </tr>\n",
       "    <tr>\n",
       "      <th>13014</th>\n",
       "      <td>richmond</td>\n",
       "      <td>14990</td>\n",
       "      <td>2010</td>\n",
       "      <td>ford</td>\n",
       "      <td>econoline</td>\n",
       "      <td>good</td>\n",
       "      <td>8 cylinders</td>\n",
       "      <td>gas</td>\n",
       "      <td>53366</td>\n",
       "      <td>clean</td>\n",
       "      <td>automatic</td>\n",
       "      <td>rwd</td>\n",
       "      <td>full-size</td>\n",
       "      <td>truck</td>\n",
       "      <td>white</td>\n",
       "      <td>https://images.craigslist.org/00w0w_leXh6Ll1VY...</td>\n",
       "      <td>2010 Ford Econoline E-450 LAWN MAINTENANCE  **...</td>\n",
       "      <td>va</td>\n",
       "    </tr>\n",
       "    <tr>\n",
       "      <th>3009</th>\n",
       "      <td>vermont</td>\n",
       "      <td>12998</td>\n",
       "      <td>2017</td>\n",
       "      <td>volkswagen</td>\n",
       "      <td>jetta</td>\n",
       "      <td>excellent</td>\n",
       "      <td>4 cylinders</td>\n",
       "      <td>gas</td>\n",
       "      <td>57078</td>\n",
       "      <td>clean</td>\n",
       "      <td>automatic</td>\n",
       "      <td>fwd</td>\n",
       "      <td>full-size</td>\n",
       "      <td>sedan</td>\n",
       "      <td>red</td>\n",
       "      <td>https://images.craigslist.org/00E0E_dtGHm3RB8x...</td>\n",
       "      <td>********2017 VOLKSWAGEN JETTA 1.4T S********  ...</td>\n",
       "      <td>vt</td>\n",
       "    </tr>\n",
       "    <tr>\n",
       "      <th>589</th>\n",
       "      <td>st george</td>\n",
       "      <td>10500</td>\n",
       "      <td>1964</td>\n",
       "      <td>chevrolet</td>\n",
       "      <td>el camino</td>\n",
       "      <td>good</td>\n",
       "      <td>8 cylinders</td>\n",
       "      <td>gas</td>\n",
       "      <td>50000</td>\n",
       "      <td>clean</td>\n",
       "      <td>automatic</td>\n",
       "      <td>rwd</td>\n",
       "      <td>mid-size</td>\n",
       "      <td>truck</td>\n",
       "      <td>blue</td>\n",
       "      <td>https://images.craigslist.org/00C0C_g6SYysEdR7...</td>\n",
       "      <td>1964 Chevy El Camino $10,500 OBO - CASH ONLY -...</td>\n",
       "      <td>ut</td>\n",
       "    </tr>\n",
       "    <tr>\n",
       "      <th>11635</th>\n",
       "      <td>richmond</td>\n",
       "      <td>2400</td>\n",
       "      <td>2008</td>\n",
       "      <td>nissan</td>\n",
       "      <td>altima 2.5l sedan</td>\n",
       "      <td>good</td>\n",
       "      <td>4 cylinders</td>\n",
       "      <td>gas</td>\n",
       "      <td>232108</td>\n",
       "      <td>clean</td>\n",
       "      <td>automatic</td>\n",
       "      <td>fwd</td>\n",
       "      <td>full-size</td>\n",
       "      <td>sedan</td>\n",
       "      <td>blue</td>\n",
       "      <td>https://images.craigslist.org/00N0N_lSf5NlA28T...</td>\n",
       "      <td>WE ARE A VA LICENSED USED CAR DEALER LOCATED I...</td>\n",
       "      <td>va</td>\n",
       "    </tr>\n",
       "    <tr>\n",
       "      <th>2843</th>\n",
       "      <td>vermont</td>\n",
       "      <td>3900</td>\n",
       "      <td>2002</td>\n",
       "      <td>toyota</td>\n",
       "      <td>highlander</td>\n",
       "      <td>good</td>\n",
       "      <td>6 cylinders</td>\n",
       "      <td>gas</td>\n",
       "      <td>140132</td>\n",
       "      <td>clean</td>\n",
       "      <td>automatic</td>\n",
       "      <td>4wd</td>\n",
       "      <td>mid-size</td>\n",
       "      <td>SUV</td>\n",
       "      <td>custom</td>\n",
       "      <td>https://images.craigslist.org/00T0T_4LCuj5xyx9...</td>\n",
       "      <td>I got 2002 Toyota Highlander V6 4wd runs great...</td>\n",
       "      <td>vt</td>\n",
       "    </tr>\n",
       "    <tr>\n",
       "      <th>8336</th>\n",
       "      <td>norfolk / hampton roads</td>\n",
       "      <td>7500</td>\n",
       "      <td>2012</td>\n",
       "      <td>volkswagen</td>\n",
       "      <td>jetta 2.5l se</td>\n",
       "      <td>excellent</td>\n",
       "      <td>5 cylinders</td>\n",
       "      <td>gas</td>\n",
       "      <td>61000</td>\n",
       "      <td>clean</td>\n",
       "      <td>automatic</td>\n",
       "      <td>fwd</td>\n",
       "      <td>mid-size</td>\n",
       "      <td>sedan</td>\n",
       "      <td>white</td>\n",
       "      <td>https://images.craigslist.org/00j0j_9P7bU7jxTO...</td>\n",
       "      <td>For Sale is my 2012 Volkswagen Jetta SE. Super...</td>\n",
       "      <td>va</td>\n",
       "    </tr>\n",
       "    <tr>\n",
       "      <th>17106</th>\n",
       "      <td>bellingham</td>\n",
       "      <td>4000</td>\n",
       "      <td>1988</td>\n",
       "      <td>toyota</td>\n",
       "      <td>pickup</td>\n",
       "      <td>fair</td>\n",
       "      <td>4 cylinders</td>\n",
       "      <td>gas</td>\n",
       "      <td>312000</td>\n",
       "      <td>clean</td>\n",
       "      <td>manual</td>\n",
       "      <td>4wd</td>\n",
       "      <td>full-size</td>\n",
       "      <td>truck</td>\n",
       "      <td>blue</td>\n",
       "      <td>https://images.craigslist.org/00i0i_8KD6n7T0BA...</td>\n",
       "      <td>1988 Toyota Pickup $4000 obo 5 speed manual tr...</td>\n",
       "      <td>wa</td>\n",
       "    </tr>\n",
       "    <tr>\n",
       "      <th>8821</th>\n",
       "      <td>norfolk / hampton roads</td>\n",
       "      <td>14490</td>\n",
       "      <td>2015</td>\n",
       "      <td>subaru</td>\n",
       "      <td>crosstrek limited</td>\n",
       "      <td>like new</td>\n",
       "      <td>4 cylinders</td>\n",
       "      <td>gas</td>\n",
       "      <td>70189</td>\n",
       "      <td>clean</td>\n",
       "      <td>automatic</td>\n",
       "      <td>4wd</td>\n",
       "      <td>full-size</td>\n",
       "      <td>SUV</td>\n",
       "      <td>silver</td>\n",
       "      <td>https://images.craigslist.org/00k0k_jVkDpk5Qvb...</td>\n",
       "      <td>2014 SUBARU CROSSTREK LIMITED PACKAGE AWD WITH...</td>\n",
       "      <td>va</td>\n",
       "    </tr>\n",
       "  </tbody>\n",
       "</table>\n",
       "</div>"
      ],
      "text/plain": [
       "                        region  price  year manufacturer              model  \\\n",
       "15716                  roanoke   6990  2013         ford            edge se   \n",
       "2796                   vermont   7998  2012        dodge   grand caravan se   \n",
       "13014                 richmond  14990  2010         ford          econoline   \n",
       "3009                   vermont  12998  2017   volkswagen              jetta   \n",
       "589                  st george  10500  1964    chevrolet          el camino   \n",
       "11635                 richmond   2400  2008       nissan  altima 2.5l sedan   \n",
       "2843                   vermont   3900  2002       toyota         highlander   \n",
       "8336   norfolk / hampton roads   7500  2012   volkswagen      jetta 2.5l se   \n",
       "17106               bellingham   4000  1988       toyota             pickup   \n",
       "8821   norfolk / hampton roads  14490  2015       subaru  crosstrek limited   \n",
       "\n",
       "       condition    cylinders fuel  odometer  title transmission drive  \\\n",
       "15716  excellent  6 cylinders  gas    135820  clean    automatic   fwd   \n",
       "2796        good  6 cylinders  gas    107942  clean    automatic   fwd   \n",
       "13014       good  8 cylinders  gas     53366  clean    automatic   rwd   \n",
       "3009   excellent  4 cylinders  gas     57078  clean    automatic   fwd   \n",
       "589         good  8 cylinders  gas     50000  clean    automatic   rwd   \n",
       "11635       good  4 cylinders  gas    232108  clean    automatic   fwd   \n",
       "2843        good  6 cylinders  gas    140132  clean    automatic   4wd   \n",
       "8336   excellent  5 cylinders  gas     61000  clean    automatic   fwd   \n",
       "17106       fair  4 cylinders  gas    312000  clean       manual   4wd   \n",
       "8821    like new  4 cylinders  gas     70189  clean    automatic   4wd   \n",
       "\n",
       "            size   type   color  \\\n",
       "15716   mid-size    SUV   white   \n",
       "2796   full-size    van     red   \n",
       "13014  full-size  truck   white   \n",
       "3009   full-size  sedan     red   \n",
       "589     mid-size  truck    blue   \n",
       "11635  full-size  sedan    blue   \n",
       "2843    mid-size    SUV  custom   \n",
       "8336    mid-size  sedan   white   \n",
       "17106  full-size  truck    blue   \n",
       "8821   full-size    SUV  silver   \n",
       "\n",
       "                                               image_url  \\\n",
       "15716  https://images.craigslist.org/00c0c_8sKy3Yq7cN...   \n",
       "2796   https://images.craigslist.org/00w0w_6rN49xg9Fs...   \n",
       "13014  https://images.craigslist.org/00w0w_leXh6Ll1VY...   \n",
       "3009   https://images.craigslist.org/00E0E_dtGHm3RB8x...   \n",
       "589    https://images.craigslist.org/00C0C_g6SYysEdR7...   \n",
       "11635  https://images.craigslist.org/00N0N_lSf5NlA28T...   \n",
       "2843   https://images.craigslist.org/00T0T_4LCuj5xyx9...   \n",
       "8336   https://images.craigslist.org/00j0j_9P7bU7jxTO...   \n",
       "17106  https://images.craigslist.org/00i0i_8KD6n7T0BA...   \n",
       "8821   https://images.craigslist.org/00k0k_jVkDpk5Qvb...   \n",
       "\n",
       "                                             description state  \n",
       "15716  Best Roanoke Auto Sales is located in the beau...    va  \n",
       "2796   PLEASE VIEW THE FREE CARFAX HISTORY REPORT AT ...    vt  \n",
       "13014  2010 Ford Econoline E-450 LAWN MAINTENANCE  **...    va  \n",
       "3009   ********2017 VOLKSWAGEN JETTA 1.4T S********  ...    vt  \n",
       "589    1964 Chevy El Camino $10,500 OBO - CASH ONLY -...    ut  \n",
       "11635  WE ARE A VA LICENSED USED CAR DEALER LOCATED I...    va  \n",
       "2843   I got 2002 Toyota Highlander V6 4wd runs great...    vt  \n",
       "8336   For Sale is my 2012 Volkswagen Jetta SE. Super...    va  \n",
       "17106  1988 Toyota Pickup $4000 obo 5 speed manual tr...    wa  \n",
       "8821   2014 SUBARU CROSSTREK LIMITED PACKAGE AWD WITH...    va  "
      ]
     },
     "execution_count": 42,
     "metadata": {},
     "output_type": "execute_result"
    }
   ],
   "source": [
    "df5.sample(10)"
   ]
  },
  {
   "cell_type": "code",
   "execution_count": 43,
   "id": "316d9a7f",
   "metadata": {},
   "outputs": [
    {
     "name": "stderr",
     "output_type": "stream",
     "text": [
      "/tmp/ipykernel_13120/2021074495.py:1: SettingWithCopyWarning: \n",
      "A value is trying to be set on a copy of a slice from a DataFrame\n",
      "\n",
      "See the caveats in the documentation: https://pandas.pydata.org/pandas-docs/stable/user_guide/indexing.html#returning-a-view-versus-a-copy\n",
      "  df5.drop(['image_url'],axis=1, inplace=True)\n"
     ]
    }
   ],
   "source": [
    "df5.drop(['image_url'],axis=1, inplace=True)"
   ]
  },
  {
   "cell_type": "code",
   "execution_count": 58,
   "id": "e593d727",
   "metadata": {},
   "outputs": [
    {
     "data": {
      "text/plain": [
       "4125"
      ]
     },
     "execution_count": 58,
     "metadata": {},
     "output_type": "execute_result"
    }
   ],
   "source": [
    "len(df5)"
   ]
  },
  {
   "cell_type": "code",
   "execution_count": null,
   "id": "5c27c549",
   "metadata": {},
   "outputs": [],
   "source": []
  },
  {
   "cell_type": "code",
   "execution_count": null,
   "id": "e07281f1",
   "metadata": {},
   "outputs": [],
   "source": []
  },
  {
   "cell_type": "code",
   "execution_count": null,
   "id": "ca1a8900",
   "metadata": {},
   "outputs": [],
   "source": []
  },
  {
   "cell_type": "code",
   "execution_count": null,
   "id": "ab6f298c",
   "metadata": {},
   "outputs": [],
   "source": []
  },
  {
   "cell_type": "code",
   "execution_count": null,
   "id": "caa96d33",
   "metadata": {},
   "outputs": [],
   "source": []
  },
  {
   "cell_type": "code",
   "execution_count": null,
   "id": "13d13de8",
   "metadata": {},
   "outputs": [],
   "source": []
  },
  {
   "cell_type": "code",
   "execution_count": null,
   "id": "38a747b4",
   "metadata": {},
   "outputs": [],
   "source": []
  },
  {
   "cell_type": "code",
   "execution_count": null,
   "id": "9f6b99a2",
   "metadata": {},
   "outputs": [],
   "source": []
  },
  {
   "cell_type": "code",
   "execution_count": null,
   "id": "f6377fd6",
   "metadata": {},
   "outputs": [],
   "source": []
  },
  {
   "cell_type": "code",
   "execution_count": null,
   "id": "c2c0eb43",
   "metadata": {},
   "outputs": [],
   "source": []
  },
  {
   "cell_type": "code",
   "execution_count": null,
   "id": "cfead9bc",
   "metadata": {},
   "outputs": [],
   "source": []
  },
  {
   "cell_type": "code",
   "execution_count": 91,
   "id": "5fb9ea4c",
   "metadata": {},
   "outputs": [
    {
     "data": {
      "image/png": "[encoded data removed]",
      "text/plain": [
       "<Figure size 432x288 with 1 Axes>"
      ]
     },
     "metadata": {
      "needs_background": "light"
     },
     "output_type": "display_data"
    }
   ],
   "source": [
    "sns.kdeplot(df5['year']).set(title='Year')\n",
    "plt.savefig('yearsns.png')"
   ]
  },
  {
   "cell_type": "code",
   "execution_count": 94,
   "id": "6b9bce72",
   "metadata": {},
   "outputs": [
    {
     "data": {
      "image/png": "[encoded data removed]",
      "text/plain": [
       "<Figure size 432x288 with 1 Axes>"
      ]
     },
     "metadata": {
      "needs_background": "light"
     },
     "output_type": "display_data"
    }
   ],
   "source": [
    "sns.scatterplot(y=df5['odometer'], x=df5['price']).set(title='Odometer/Price')\n",
    "plt.savefig('OdometerPrice.png')"
   ]
  },
  {
   "cell_type": "code",
   "execution_count": 95,
   "id": "3c41cacd",
   "metadata": {},
   "outputs": [
    {
     "data": {
      "image/png": "[encoded data removed]",
      "text/plain": [
       "<Figure size 432x288 with 1 Axes>"
      ]
     },
     "metadata": {
      "needs_background": "light"
     },
     "output_type": "display_data"
    }
   ],
   "source": [
    "sns.scatterplot(y=df5['manufacturer'], x=df5['price']).set(title='Manufacturer/Price')\n",
    "plt.savefig('ManufacturerPrice.png')"
   ]
  },
  {
   "cell_type": "code",
   "execution_count": 96,
   "id": "4a9bd5de",
   "metadata": {},
   "outputs": [
    {
     "data": {
      "image/png": "[encoded data removed]",
      "text/plain": [
       "<Figure size 432x288 with 1 Axes>"
      ]
     },
     "metadata": {
      "needs_background": "light"
     },
     "output_type": "display_data"
    }
   ],
   "source": [
    "plt.barh(df5.manufacturer, df5.odometer)\n",
    "plt.title('Manufacturer/Odometer')\n",
    "plt.ylabel('Manufacturer')\n",
    "plt.xlabel('Odometer')\n",
    "plt.savefig('ManufacturerOdometer.png')"
   ]
  },
  {
   "cell_type": "code",
   "execution_count": 97,
   "id": "2a23cd97",
   "metadata": {},
   "outputs": [
    {
     "data": {
      "image/png": "[encoded data removed]",
      "text/plain": [
       "<Figure size 432x288 with 1 Axes>"
      ]
     },
     "metadata": {
      "needs_background": "light"
     },
     "output_type": "display_data"
    }
   ],
   "source": [
    "plt.hist(df5.year)\n",
    "plt.title('Year')\n",
    "plt.ylabel('Count')\n",
    "plt.xlabel('Year')\n",
    "plt.savefig('YearMPL.png')"
   ]
  },
  {
   "cell_type": "code",
   "execution_count": 98,
   "id": "15acdefc",
   "metadata": {},
   "outputs": [
    {
     "data": {
      "image/png": "[encoded data removed]",
      "text/plain": [
       "<Figure size 432x288 with 1 Axes>"
      ]
     },
     "metadata": {
      "needs_background": "light"
     },
     "output_type": "display_data"
    }
   ],
   "source": [
    "plt.barh(df5.condition,df5.price)\n",
    "plt.title('Condition/Price')\n",
    "plt.ylabel('Condition')\n",
    "plt.xlabel('Price')\n",
    "plt.savefig('ConditionPrice.png')"
   ]
  },
  {
   "cell_type": "code",
   "execution_count": 99,
   "id": "1e3650e2",
   "metadata": {},
   "outputs": [
    {
     "data": {
      "image/png": "[encoded data removed]",
      "text/plain": [
       "<Figure size 432x288 with 1 Axes>"
      ]
     },
     "metadata": {
      "needs_background": "light"
     },
     "output_type": "display_data"
    }
   ],
   "source": [
    "plt.barh(df5.transmission,df5.price)\n",
    "plt.title('Transmission/Price')\n",
    "plt.ylabel('Transmission')\n",
    "plt.xlabel('Price')\n",
    "plt.savefig('TransmissionPrice.png')"
   ]
  },
  {
   "cell_type": "code",
   "execution_count": 100,
   "id": "e4a2262e",
   "metadata": {},
   "outputs": [
    {
     "data": {
      "image/png": "[encoded data removed]",
      "text/plain": [
       "<Figure size 360x360 with 1 Axes>"
      ]
     },
     "metadata": {
      "needs_background": "light"
     },
     "output_type": "display_data"
    }
   ],
   "source": [
    "sns.displot(df5.price, kind=\"kde\").set(title='Price')\n",
    "plt.savefig('Price.png')"
   ]
  },
  {
   "cell_type": "code",
   "execution_count": 101,
   "id": "2bec3045",
   "metadata": {},
   "outputs": [
    {
     "data": {
      "image/png": "[encoded data removed]",
      "text/plain": [
       "<Figure size 432x288 with 1 Axes>"
      ]
     },
     "metadata": {
      "needs_background": "light"
     },
     "output_type": "display_data"
    }
   ],
   "source": [
    "plt.barh(df5.year,df5.price)\n",
    "plt.title('Year/Price')\n",
    "plt.ylabel('Year')\n",
    "plt.xlabel('Price')\n",
    "plt.savefig('YearPrice.png')"
   ]
  },
  {
   "cell_type": "code",
   "execution_count": 102,
   "id": "f989ae21",
   "metadata": {},
   "outputs": [
    {
     "data": {
      "image/png": "[encoded data removed]",
      "text/plain": [
       "<Figure size 432x288 with 1 Axes>"
      ]
     },
     "metadata": {
      "needs_background": "light"
     },
     "output_type": "display_data"
    }
   ],
   "source": [
    "plt.bar(df5.year, df5.odometer)\n",
    "plt.title('Year/Odometer')\n",
    "plt.ylabel('Odometer')\n",
    "plt.xlabel('Year')\n",
    "plt.savefig('YearOdometer.png')"
   ]
  }
 ],
 "metadata": {
  "kernelspec": {
   "display_name": "Python 3 (ipykernel)",
   "language": "python",
   "name": "python3"
  },
  "language_info": {
   "codemirror_mode": {
    "name": "ipython",
    "version": 3
   },
   "file_extension": ".py",
   "mimetype": "text/x-python",
   "name": "python",
   "nbconvert_exporter": "python",
   "pygments_lexer": "ipython3",
   "version": "3.9.2"
  }
 },
 "nbformat": 4,
 "nbformat_minor": 5
}
